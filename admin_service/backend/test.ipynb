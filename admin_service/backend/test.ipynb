{
 "cells": [
  {
   "cell_type": "markdown",
   "metadata": {},
   "source": [
    "sqlite"
   ]
  },
  {
   "cell_type": "code",
   "execution_count": 2,
   "metadata": {},
   "outputs": [],
   "source": [
    "strs = \"['學院基本介紹', '學院地址', '切換模型', '當前用量']\""
   ]
  },
  {
   "cell_type": "code",
   "execution_count": 7,
   "metadata": {},
   "outputs": [
    {
     "data": {
      "text/plain": [
       "list"
      ]
     },
     "execution_count": 7,
     "metadata": {},
     "output_type": "execute_result"
    }
   ],
   "source": [
    "type(eval(strs))"
   ]
  },
  {
   "cell_type": "code",
   "execution_count": 6,
   "metadata": {},
   "outputs": [],
   "source": [
    "# SQL code to create the tables\n",
    "create_users_table = \"\"\"\n",
    "CREATE TABLE IF NOT EXISTS users (\n",
    "    id INTEGER PRIMARY KEY AUTOINCREMENT,\n",
    "    user_line_id TEXT,\n",
    "    user_name TEXT,\n",
    "    updated_at TIMESTAMP DEFAULT CURRENT_TIMESTAMP\n",
    ");\n",
    "\"\"\"\n",
    "\n",
    "create_user_permissions_table = \"\"\"\n",
    "CREATE TABLE IF NOT EXISTS user_permissions (\n",
    "    id INTEGER PRIMARY KEY,\n",
    "    user_id INTEGER,\n",
    "    collection_id INTEGER,\n",
    "    is_permission BOOLEAN,\n",
    "    updated_at TIMESTAMP DEFAULT CURRENT_TIMESTAMP,\n",
    "    FOREIGN KEY (user_id) REFERENCES users(id),\n",
    "    FOREIGN KEY (collection_id) REFERENCES collections(id)\n",
    ");\n",
    "\"\"\"\n",
    "create_collection_table = \"\"\"\n",
    "CREATE TABLE IF NOT EXISTS collections (\n",
    "    id INTEGER PRIMARY KEY AUTOINCREMENT,\n",
    "    collection_name TEXT NOT NULL,\n",
    "    prompt TEXT,\n",
    "    files TEXT,\n",
    "    new_files TEXT,\n",
    "    is_update boolean DEFAULT 0,\n",
    "    updated_at TIMESTAMP DEFAULT CURRENT_TIMESTAMP\n",
    ");\n",
    "\"\"\"\n",
    "\n",
    "# List of SQL commands to create indexes\n",
    "index_commands = [\n",
    "    \"CREATE INDEX idx_user_line_id ON Users(id);\",\n",
    "    \"CREATE INDEX idx_user_id ON UserPermissions(id);\"\n",
    "]\n",
    "\n",
    "\n",
    "import sqlite3\n",
    "import json\n",
    "def get_connection():\n",
    "    conn = sqlite3.connect('../../database.db')\n",
    "    return conn\n",
    "\n",
    "def create_table_collections():\n",
    "    conn = get_connection()\n",
    "    cursor = conn.cursor()\n",
    "    # Create new table\n",
    "    cursor.execute('''\n",
    "        CREATE TABLE IF NOT EXISTS collections (\n",
    "            id INTEGER PRIMARY KEY AUTOINCREMENT,\n",
    "            collection_name TEXT NOT NULL,\n",
    "            prompt TEXT,\n",
    "            files TEXT,\n",
    "            new_files TEXT,\n",
    "            is_update boolean DEFAULT 0,\n",
    "            updated_at TIMESTAMP DEFAULT CURRENT_TIMESTAMP\n",
    "        )\n",
    "    ''')\n",
    "    conn.commit()\n",
    "    conn.close()\n",
    "\n",
    "def get_collections():\n",
    "    conn = get_connection()\n",
    "    cursor = conn.cursor()\n",
    "\n",
    "    cursor.execute('SELECT * FROM collections')\n",
    "\n",
    "    rows = cursor.fetchall()\n",
    "    conn.close()\n",
    "\n",
    "    # Get column names from cursor description\n",
    "    column_names = [column[0] for column in cursor.description]\n",
    "\n",
    "    # Convert rows to dictionaries\n",
    "    dict_rows = [dict(zip(column_names, row)) for row in rows]\n",
    "\n",
    "    # Convert 'files' from str to list\n",
    "    for row in dict_rows:\n",
    "        row['files'] = json.loads(row['files'])\n",
    "        row['new_files'] = json.loads(row['new_files'])\n",
    "        \n",
    "    return dict_rows\n",
    "\n",
    "# insert a new row into the collections table\n",
    "def insert_collection(collection_name, prompt=None, files='[]', new_files='[]'):\n",
    "    conn = get_connection()\n",
    "    cursor = conn.cursor()\n",
    "\n",
    "    cursor.execute('''\n",
    "        INSERT INTO collections (collection_name, prompt, files, new_files)\n",
    "        VALUES (?, ?, ?, ?)\n",
    "    ''', (collection_name, prompt, files, new_files))\n",
    "\n",
    "    conn.commit()\n",
    "    conn.close()\n",
    "\n",
    "def update_collection(id, collection_name=None, prompt=None, files=None, new_files=None):\n",
    "    conn = get_connection()\n",
    "    cursor = conn.cursor()\n",
    "\n",
    "    # 使用字典來儲存要更新的欄位和值\n",
    "    updates = {\n",
    "        'collection_name': collection_name,\n",
    "        'prompt': prompt,\n",
    "        'files': files,\n",
    "        'new_files': new_files\n",
    "    }\n",
    "\n",
    "    # 過濾掉值為 None 的項目\n",
    "    updates = {column: value for column, value in updates.items() if value is not None}\n",
    "\n",
    "    # 如果有要更新的欄位，則生成 SQL 語句並執行\n",
    "    if updates:\n",
    "        set_clause = ', '.join([f\"{column} = ?\" for column in updates.keys()])\n",
    "        parameters = list(updates.values())\n",
    "        parameters.append(id)\n",
    "\n",
    "        sql = f\"UPDATE collections SET {set_clause}, is_update = 1, updated_at = CURRENT_TIMESTAMP WHERE id = ?\"\n",
    "        cursor.execute(sql, parameters)\n",
    "        conn.commit()\n",
    "\n",
    "    conn.close()\n",
    "\n",
    "# delete the collections table\n",
    "def delete_table_collections():\n",
    "    conn = get_connection()\n",
    "    cursor = conn.cursor()\n",
    "    # Delete table\n",
    "    cursor.execute('''\n",
    "        DROP TABLE IF EXISTS collections\n",
    "    ''')\n",
    "    conn.commit()\n",
    "    conn.close()\n",
    "\n",
    "# create a new table\n",
    "def create_table(sql):\n",
    "    conn = get_connection()\n",
    "    cursor = conn.cursor()\n",
    "    # Create new table\n",
    "    cursor.execute(sql)\n",
    "    conn.commit()\n",
    "    conn.close()\n",
    "\n",
    "\n",
    "def insert_user(user_line_id, user_name):\n",
    "    conn = get_connection()\n",
    "    cursor = conn.cursor()\n",
    "\n",
    "    cursor.execute('''\n",
    "        INSERT INTO users (user_line_id, user_name)\n",
    "        VALUES (?, ?)\n",
    "    ''', (user_line_id, user_name))\n",
    "\n",
    "    conn.commit()\n",
    "    conn.close()\n",
    "\n",
    "def get_users():\n",
    "    conn = get_connection()\n",
    "    cursor = conn.cursor()\n",
    "\n",
    "    cursor.execute('SELECT * FROM users')\n",
    "\n",
    "    rows = cursor.fetchall()\n",
    "    conn.close()\n",
    "\n",
    "    # Get column names from cursor description\n",
    "    column_names = [column[0] for column in cursor.description]\n",
    "\n",
    "    # Convert rows to dictionaries\n",
    "    dict_rows = [dict(zip(column_names, row)) for row in rows]\n",
    "\n",
    "    return dict_rows\n",
    "\n",
    "def delete_user_permission(user_id, collection_id):\n",
    "    conn = get_connection()\n",
    "    cursor = conn.cursor()\n",
    "\n",
    "    cursor.execute('''\n",
    "        DELETE FROM user_permissions\n",
    "        WHERE user_id = ? AND collection_id = ?\n",
    "    ''', (user_id, collection_id))\n",
    "\n",
    "    conn.commit()\n",
    "    conn.close()\n",
    "\n",
    "def get_user_permissions():\n",
    "    conn = get_connection()\n",
    "    cursor = conn.cursor()\n",
    "\n",
    "    cursor.execute('SELECT * FROM user_permissions')\n",
    "\n",
    "    rows = cursor.fetchall()\n",
    "    conn.close()\n",
    "    \n",
    "    # Get column names from cursor description\n",
    "    column_names = [column[0] for column in cursor.description]\n",
    "\n",
    "    # Convert rows to dictionaries\n",
    "    dict_rows = [dict(zip(column_names, row)) for row in rows]\n",
    "\n",
    "\n",
    "    return dict_rows\n",
    "\n",
    "def create_table_model_status():\n",
    "    conn = get_connection()\n",
    "    cursor = conn.cursor()\n",
    "    # Create new table\n",
    "    cursor.execute('''\n",
    "        CREATE TABLE IF NOT EXISTS model_status (\n",
    "            id INTEGER PRIMARY KEY AUTOINCREMENT,\n",
    "            status TEXT,\n",
    "            updated_at TIMESTAMP DEFAULT CURRENT_TIMESTAMP\n",
    "        )\n",
    "    ''')\n",
    "    conn.commit()\n",
    "    conn.close()\n",
    "\n",
    "def insert_model_status(status):\n",
    "    conn = get_connection()\n",
    "    cursor = conn.cursor()\n",
    "\n",
    "    cursor.execute('''\n",
    "        INSERT INTO model_status (status)\n",
    "        VALUES (?)\n",
    "    ''', (status,))\n",
    "\n",
    "    conn.commit()\n",
    "    conn.close()\n",
    "\n",
    "def update_model_status(status):\n",
    "    conn = get_connection()\n",
    "    cursor = conn.cursor()\n",
    "\n",
    "    cursor.execute('''\n",
    "        UPDATE model_status\n",
    "        SET status = ?, updated_at = CURRENT_TIMESTAMP\n",
    "        WHERE id = 1\n",
    "    ''', (status,))\n",
    "\n",
    "    conn.commit()\n",
    "    conn.close()\n",
    "\n",
    "def get_model_status():\n",
    "    conn = get_connection()\n",
    "    cursor = conn.cursor()\n",
    "\n",
    "    cursor.execute('''\n",
    "        SELECT status, updated_at\n",
    "        FROM model_status\n",
    "        WHERE id = 1\n",
    "    ''')\n",
    "\n",
    "    result = cursor.fetchone()\n",
    "\n",
    "    conn.close()\n",
    "\n",
    "    return result\n",
    "\n"
   ]
  },
  {
   "cell_type": "code",
   "execution_count": 10,
   "metadata": {},
   "outputs": [],
   "source": [
    "update_model_status('pending')"
   ]
  },
  {
   "cell_type": "code",
   "execution_count": 11,
   "metadata": {},
   "outputs": [
    {
     "data": {
      "text/plain": [
       "('pending', '2024-07-09 07:06:42')"
      ]
     },
     "execution_count": 11,
     "metadata": {},
     "output_type": "execute_result"
    }
   ],
   "source": [
    "def update_model_status(status):\n",
    "    conn = get_connection()\n",
    "    cursor = conn.cursor()\n",
    "\n",
    "    cursor.execute('''\n",
    "        UPDATE model_status\n",
    "        SET status = ?, updated_at = CURRENT_TIMESTAMP\n",
    "        WHERE id = 1\n",
    "    ''', (status,))\n",
    "\n",
    "    conn.commit()\n",
    "    conn.close()\n",
    "\n",
    "get_model_status()"
   ]
  },
  {
   "cell_type": "code",
   "execution_count": 7,
   "metadata": {},
   "outputs": [
    {
     "data": {
      "text/plain": [
       "[{'id': 1, 'user_name': 'Michael', 'testing_num1': 1, 'testing_num2': 1},\n",
       " {'id': 2, 'user_name': 'Ivan', 'testing_num1': 1, 'testing_num2': 1},\n",
       " {'id': 3, 'user_name': 'Levi', 'testing_num1': 1, 'testing_num2': 1}]"
      ]
     },
     "execution_count": 7,
     "metadata": {},
     "output_type": "execute_result"
    }
   ],
   "source": [
    "def get_user_permissions_info():\n",
    "    conn = get_connection()\n",
    "    cursor = conn.cursor()\n",
    "\n",
    "\n",
    "    # 獲取所有唯一的產品名稱\n",
    "    cursor.execute(\"SELECT DISTINCT collection_name FROM collections\")\n",
    "    collection_names = [row[0] for row in cursor.fetchall()]\n",
    "    # 構建動態 SQL 查詢\n",
    "    columns = \", \".join([f\"MAX(CASE WHEN c.collection_name = '{collection_name}' THEN up.is_permission ELSE 0 END) AS {collection_name}\" for collection_name in collection_names])\n",
    "\n",
    "    cursor.execute(f'''\n",
    "    SELECT \n",
    "        u.id,\n",
    "        u.user_name,\n",
    "        {columns}\n",
    "    FROM \n",
    "        users u\n",
    "    LEFT JOIN \n",
    "        user_permissions up ON u.id = up.user_id\n",
    "    LEFT JOIN \n",
    "        collections c ON up.collection_id = c.id\n",
    "    GROUP BY \n",
    "        u.id, u.user_name;\n",
    "    ''')\n",
    "\n",
    "    rows = cursor.fetchall()\n",
    "    conn.close()\n",
    "\n",
    "    # Get column names from cursor description\n",
    "    column_names = [column[0] for column in cursor.description]\n",
    "\n",
    "    # Convert rows to dictionaries\n",
    "    dict_rows = [dict(zip(column_names, row)) for row in rows]\n",
    "\n",
    "    return dict_rows\n",
    "\n",
    "get_user_permissions_info()"
   ]
  },
  {
   "cell_type": "code",
   "execution_count": null,
   "metadata": {},
   "outputs": [],
   "source": []
  },
  {
   "cell_type": "code",
   "execution_count": 13,
   "metadata": {},
   "outputs": [
    {
     "name": "stdout",
     "output_type": "stream",
     "text": [
      "3 2\n"
     ]
    }
   ],
   "source": [
    "def transfer_name2id(user_name, collection_name):\n",
    "    conn = get_connection()\n",
    "    cursor = conn.cursor()\n",
    "    # 獲取所有唯一的產品名稱\n",
    "    cursor.execute(\"SELECT id FROM users where user_name = ?\", (user_name,))\n",
    "    user_id = cursor.fetchall()[0][0]\n",
    "\n",
    "    cursor.execute(\"SELECT id FROM collections where collection_name = ?\", (collection_name,))\n",
    "    collection_id = cursor.fetchall()[0][0]\n",
    "    return user_id, collection_id\n",
    "\n",
    "def insert_user_permission(user_id, collection_id):\n",
    "    conn = get_connection()\n",
    "    cursor = conn.cursor()\n",
    "\n",
    "    cursor.execute('''\n",
    "        with collection as (\n",
    "            select id from collections where id = ?\n",
    "        )\n",
    "        INSERT INTO user_permissions (user_id, collection_id, is_permission)\n",
    "        VALUES (?, ?, 1)\n",
    "    ''', (user_id, collection_id))\n",
    "\n",
    "    conn.commit()\n",
    "    conn.close()\n",
    "\n",
    "insert_user_permission(\"Levi\", \"testing_num2\")"
   ]
  },
  {
   "cell_type": "code",
   "execution_count": 15,
   "metadata": {},
   "outputs": [
    {
     "data": {
      "text/plain": [
       "(1, 2)"
      ]
     },
     "execution_count": 15,
     "metadata": {},
     "output_type": "execute_result"
    }
   ],
   "source": [
    "def transfer_name2id(user_name, collection_name):\n",
    "    conn = get_connection()\n",
    "    cursor = conn.cursor()\n",
    "    # 獲取所有唯一的產品名稱\n",
    "    cursor.execute(\"SELECT id FROM users where user_name = ?\", (user_name,))\n",
    "    user_id = cursor.fetchall()[0][0]\n",
    "\n",
    "    cursor.execute(\"SELECT id FROM collections where collection_name = ?\", (collection_name,))\n",
    "    collection_id = cursor.fetchall()[0][0]\n",
    "    return user_id, collection_id\n",
    "transfer_name2id(\"Michael\", \"testing_num2\")"
   ]
  },
  {
   "cell_type": "code",
   "execution_count": null,
   "metadata": {},
   "outputs": [],
   "source": [
    "def remove_user_permission(user_id, collection_id):\n",
    "    conn = get_connection()\n",
    "    cursor = conn.cursor()\n",
    "\n",
    "    cursor.execute('''\n",
    "        DELETE FROM user_permissions\n",
    "        WHERE user_id = ? AND collection_id = ?\n",
    "    ''', (user_id, collection_id))\n",
    "\n",
    "    conn.commit()\n",
    "    conn.close()\n",
    "\n",
    "remove_user_permission(1,1)\n",
    "remove_user_permission(2,1)\n",
    "remove_user_permission(3,1)"
   ]
  },
  {
   "cell_type": "code",
   "execution_count": null,
   "metadata": {},
   "outputs": [],
   "source": [
    "insert_user_permission(1, 1)"
   ]
  },
  {
   "cell_type": "code",
   "execution_count": null,
   "metadata": {},
   "outputs": [],
   "source": [
    "get_user_permissions()"
   ]
  },
  {
   "cell_type": "code",
   "execution_count": null,
   "metadata": {},
   "outputs": [],
   "source": [
    "create_table_model_status()\n",
    "insert_model_status(\"pending\")"
   ]
  },
  {
   "cell_type": "code",
   "execution_count": null,
   "metadata": {},
   "outputs": [],
   "source": [
    "update_model_status(\"updating\")"
   ]
  },
  {
   "cell_type": "code",
   "execution_count": null,
   "metadata": {},
   "outputs": [],
   "source": [
    "get_model_status()"
   ]
  },
  {
   "cell_type": "code",
   "execution_count": null,
   "metadata": {},
   "outputs": [],
   "source": [
    "def get_model_status():\n",
    "    conn = get_connection()\n",
    "    cursor = conn.cursor()\n",
    "\n",
    "    cursor.execute('''\n",
    "        SELECT status, updated_at\n",
    "        FROM model_status\n",
    "        WHERE id = 1\n",
    "    ''')\n",
    "\n",
    "    rows = cursor.fetchone()\n",
    "\n",
    "    conn.close()\n",
    "    return rows\n",
    "\n",
    "get_model_status()"
   ]
  },
  {
   "cell_type": "code",
   "execution_count": null,
   "metadata": {},
   "outputs": [],
   "source": [
    "update_model_status(\"completed\")"
   ]
  },
  {
   "cell_type": "code",
   "execution_count": null,
   "metadata": {},
   "outputs": [],
   "source": [
    "get_users()"
   ]
  },
  {
   "cell_type": "code",
   "execution_count": null,
   "metadata": {},
   "outputs": [],
   "source": []
  },
  {
   "cell_type": "code",
   "execution_count": null,
   "metadata": {},
   "outputs": [],
   "source": [
    "import pandas as pd\n",
    "def read_sqlite_table(table_name=None, sql_query=None):\n",
    "    \"\"\"\n",
    "    Reads data from a SQLite database into a pandas DataFrame.\n",
    "\n",
    "    Parameters:\n",
    "    - table_name (str, optional): Name of the table to read. Use only if sql_query is None.\n",
    "    - sql_query (str, optional): Custom SQL query to execute. Overrides table_name if provided.\n",
    "\n",
    "    Returns:\n",
    "    - DataFrame containing the data retrieved from the database.\n",
    "    \"\"\"\n",
    "\n",
    "    # Establish connection to the SQLite database\n",
    "    conn = get_connection()\n",
    "    \n",
    "    # Determine the SQL query to execute\n",
    "    if sql_query is None:\n",
    "        if table_name is None:\n",
    "            raise ValueError(\"Either table_name or sql_query must be provided\")\n",
    "        sql_query = f\"SELECT * FROM {table_name}\"\n",
    "\n",
    "    # Load the data into a pandas DataFrame\n",
    "    dataframe = pd.read_sql_query(sql_query, conn)\n",
    "\n",
    "    # Close the database conn\n",
    "    conn.close()\n",
    "\n",
    "    return dataframe"
   ]
  },
  {
   "cell_type": "code",
   "execution_count": null,
   "metadata": {},
   "outputs": [],
   "source": [
    "# sql_query = \"\"\"SELECT * FROM users\"\"\" \n",
    "df = read_sqlite_table(\"users\")"
   ]
  },
  {
   "cell_type": "code",
   "execution_count": null,
   "metadata": {},
   "outputs": [],
   "source": [
    "df"
   ]
  },
  {
   "cell_type": "code",
   "execution_count": null,
   "metadata": {},
   "outputs": [],
   "source": [
    "get_users()"
   ]
  },
  {
   "cell_type": "code",
   "execution_count": null,
   "metadata": {},
   "outputs": [],
   "source": [
    "insert_user_permission(1, 2, 1)"
   ]
  },
  {
   "cell_type": "code",
   "execution_count": null,
   "metadata": {},
   "outputs": [],
   "source": [
    "insert_user('U123456','Ivan')"
   ]
  },
  {
   "cell_type": "code",
   "execution_count": null,
   "metadata": {},
   "outputs": [],
   "source": [
    "get_user_permissions()"
   ]
  },
  {
   "cell_type": "code",
   "execution_count": null,
   "metadata": {},
   "outputs": [],
   "source": [
    "get_collections()"
   ]
  },
  {
   "cell_type": "code",
   "execution_count": null,
   "metadata": {},
   "outputs": [],
   "source": [
    "type(get_collections()[0][\"files\"])"
   ]
  },
  {
   "cell_type": "code",
   "execution_count": null,
   "metadata": {},
   "outputs": [],
   "source": [
    "\n",
    "\n"
   ]
  },
  {
   "cell_type": "code",
   "execution_count": null,
   "metadata": {},
   "outputs": [],
   "source": [
    "insert_user(\"testing_lineid\", \"Michael\")"
   ]
  },
  {
   "cell_type": "code",
   "execution_count": null,
   "metadata": {},
   "outputs": [],
   "source": []
  },
  {
   "cell_type": "code",
   "execution_count": null,
   "metadata": {},
   "outputs": [],
   "source": [
    "create_table(create_users_table)\n",
    "create_table(create_user_permissions_table)"
   ]
  },
  {
   "cell_type": "code",
   "execution_count": null,
   "metadata": {},
   "outputs": [],
   "source": [
    "def get_tables():\n",
    "    conn = get_connection()\n",
    "    cursor = conn.cursor()\n",
    "\n",
    "    # Get all table names\n",
    "    cursor.execute(\"SELECT name FROM sqlite_master WHERE type='table';\")\n",
    "    tables = cursor.fetchall()\n",
    "\n",
    "    conn.close()\n",
    "\n",
    "    # Extract table names from the result\n",
    "    table_names = [table[0] for table in tables]\n",
    "\n",
    "    return table_names\n",
    "\n",
    "tables = get_tables()\n",
    "print(tables)"
   ]
  },
  {
   "cell_type": "code",
   "execution_count": null,
   "metadata": {},
   "outputs": [],
   "source": []
  },
  {
   "cell_type": "markdown",
   "metadata": {},
   "source": [
    "gcp"
   ]
  },
  {
   "cell_type": "code",
   "execution_count": null,
   "metadata": {},
   "outputs": [],
   "source": [
    "# Imports the Google Cloud client library\n",
    "from google.cloud import storage\n",
    "import os \n",
    "\n",
    "os.environ['GOOGLE_APPLICATION_CREDENTIALS'] = os.path.abspath('../utility-encoder-420001-0db7ee074ec6.json')\n",
    "# Instantiates a client\n",
    "storage_client = storage.Client()"
   ]
  },
  {
   "cell_type": "code",
   "execution_count": null,
   "metadata": {},
   "outputs": [],
   "source": [
    "buckets = storage_client.list_buckets()\n",
    "\n",
    "# for bucket in buckets:\n",
    "#     print(bucket.name)"
   ]
  },
  {
   "cell_type": "code",
   "execution_count": null,
   "metadata": {},
   "outputs": [],
   "source": [
    "buckets"
   ]
  },
  {
   "cell_type": "code",
   "execution_count": null,
   "metadata": {},
   "outputs": [],
   "source": [
    "for bucket in buckets:\n",
    "    print(bucket.name)"
   ]
  },
  {
   "cell_type": "code",
   "execution_count": null,
   "metadata": {},
   "outputs": [],
   "source": [
    "from google.cloud import storage\n",
    "\n",
    "def upload_blob(bucket_name, source_file_name, destination_blob_name):\n",
    "    \"\"\"Uploads a file to the bucket.\"\"\"\n",
    "    storage_client = storage.Client()\n",
    "    bucket = storage_client.bucket(bucket_name)\n",
    "    blob = bucket.blob(destination_blob_name)\n",
    "\n",
    "    blob.upload_from_filename(source_file_name)\n",
    "\n",
    "    print(\n",
    "        \"File {} uploaded to {}.\".format(\n",
    "            source_file_name, destination_blob_name\n",
    "        )\n",
    "    )"
   ]
  },
  {
   "cell_type": "code",
   "execution_count": null,
   "metadata": {},
   "outputs": [],
   "source": [
    "bucket = storage_client.bucket('laoshifu')\n",
    "blob = bucket.blob(\"Student Insurance Benefits.pdf\")\n",
    "blob.delete()"
   ]
  },
  {
   "cell_type": "code",
   "execution_count": null,
   "metadata": {},
   "outputs": [],
   "source": [
    "storage_client = storage.Client()\n",
    "bucket = storage_client.bucket('your-bucket-name')\n",
    "blob = bucket.blob('your-file-name')\n",
    "if blob.exists():\n",
    "    blob.delete()\n",
    "    print('File deleted successfully')\n",
    "else:\n",
    "    print('File not found in Google Cloud Storage')\n"
   ]
  },
  {
   "cell_type": "code",
   "execution_count": null,
   "metadata": {},
   "outputs": [],
   "source": [
    "from google.cloud import storage\n",
    "import io\n",
    "\n",
    "# 初始化 GCP Storage 客戶端\n",
    "client = storage.Client()\n",
    "bucket = client.bucket('laoshifu')\n",
    "\n",
    "# 從 Cloud Storage 下載 PDF 文件\n",
    "blob = bucket.blob('Student Insurance Benefits.pdf')\n",
    "pdf_bytes = blob.download_as_bytes()\n",
    "pdf_file = io.BytesIO(pdf_bytes)"
   ]
  },
  {
   "cell_type": "code",
   "execution_count": null,
   "metadata": {},
   "outputs": [],
   "source": [
    "pdf_file"
   ]
  },
  {
   "cell_type": "code",
   "execution_count": null,
   "metadata": {},
   "outputs": [],
   "source": [
    "from google.cloud import storage\n",
    "import fitz\n",
    "import io\n",
    "\n",
    "def process_pdf(bucket_name, source_blob_name):\n",
    "    # Instantiates a client\n",
    "    storage_client = storage.Client()\n",
    "\n",
    "    # Get GCS bucket\n",
    "    bucket = storage_client.bucket(bucket_name)\n",
    "\n",
    "    # Get the blob\n",
    "    blob = bucket.blob(source_blob_name)\n",
    "\n",
    "    # Download the contents of the blob as a string\n",
    "    pdf_data = blob.download_as_bytes()\n",
    "\n",
    "    # Open the PDF file\n",
    "    doc = fitz.open(\"pdf\", pdf_data)\n",
    "    text = \"\"\n",
    "    for page in doc:\n",
    "        text += page.get_text()\n",
    "\n",
    "    if text:\n",
    "        return text\n",
    "    return None"
   ]
  },
  {
   "cell_type": "code",
   "execution_count": null,
   "metadata": {},
   "outputs": [],
   "source": [
    "text = process_pdf('laoshifu', '1/Michael Chen Resume.pdf')"
   ]
  },
  {
   "cell_type": "code",
   "execution_count": null,
   "metadata": {},
   "outputs": [],
   "source": [
    "text"
   ]
  },
  {
   "cell_type": "code",
   "execution_count": 28,
   "metadata": {},
   "outputs": [],
   "source": [
    "import sqlite3\n",
    "import json\n",
    "import pandas as pd\n",
    "\n",
    "def get_connection():\n",
    "    conn = sqlite3.connect('../../database.db')\n",
    "    return conn\n",
    "\n",
    "def create_table_collections():\n",
    "    conn = get_connection()\n",
    "    cursor = conn.cursor()\n",
    "    # Create new table\n",
    "    cursor.execute('''\n",
    "        CREATE TABLE IF NOT EXISTS collections (\n",
    "            id INTEGER PRIMARY KEY AUTOINCREMENT,\n",
    "            collection_name TEXT NOT NULL,\n",
    "            new_collection_name TEXT,\n",
    "            prompt TEXT,\n",
    "            files TEXT,\n",
    "            new_files TEXT,\n",
    "            is_update boolean DEFAULT 0,\n",
    "            updated_at TIMESTAMP DEFAULT CURRENT_TIMESTAMP\n",
    "        )\n",
    "    ''')\n",
    "    conn.commit()\n",
    "    conn.close()\n",
    "\n",
    "# insert a new row into the collections table\n",
    "def insert_collection(collection_name, prompt=None, files='[]', new_files='[]'):\n",
    "    conn = get_connection()\n",
    "    cursor = conn.cursor()\n",
    "\n",
    "    cursor.execute('''\n",
    "        INSERT INTO collections (collection_name, prompt, files, new_files)\n",
    "        VALUES (?, ?, ?, ?)\n",
    "    ''', (collection_name, prompt, files, new_files))\n",
    "\n",
    "    conn.commit()\n",
    "    conn.close()\n",
    "\n",
    "def update_collection(id, collection_name=None, prompt=None, files=None, new_files=None):\n",
    "    conn = get_connection()\n",
    "    cursor = conn.cursor()\n",
    "\n",
    "    # 使用字典來儲存要更新的欄位和值\n",
    "    updates = {\n",
    "        'new_collection_name': collection_name,\n",
    "        'prompt': prompt,\n",
    "        'files': files,\n",
    "        'new_files': new_files\n",
    "    }\n",
    "\n",
    "    # 過濾掉值為 None 的項目\n",
    "    updates = {column: value for column, value in updates.items() if value is not None}\n",
    "\n",
    "    # 如果有要更新的欄位，則生成 SQL 語句並執行\n",
    "    if updates:\n",
    "        set_clause = ', '.join([f\"{column} = ?\" for column in updates.keys()])\n",
    "        parameters = list(updates.values())\n",
    "        parameters.append(id)\n",
    "\n",
    "        sql = f\"UPDATE collections SET {set_clause}, is_update = 1, updated_at = CURRENT_TIMESTAMP WHERE id = ?\"\n",
    "        cursor.execute(sql, parameters)\n",
    "        conn.commit()\n",
    "\n",
    "    conn.close()\n",
    "    \n",
    "# delete the collections table\n",
    "def delete_table_collections():\n",
    "    conn = get_connection()\n",
    "    cursor = conn.cursor()\n",
    "    # Delete table\n",
    "    cursor.execute('''\n",
    "        DROP TABLE IF EXISTS collections\n",
    "    ''')\n",
    "    conn.commit()\n",
    "    conn.close()\n",
    "\n",
    "def get_collections():\n",
    "    conn = get_connection()\n",
    "    cursor = conn.cursor()\n",
    "\n",
    "    cursor.execute('''\n",
    "        SELECT\n",
    "            id,\n",
    "            CASE\n",
    "                WHEN is_update=1 THEN new_collection_name\n",
    "            ELSE collection_name\n",
    "            END AS collection_name,\n",
    "            prompt,\n",
    "            new_files,\n",
    "            files,\n",
    "            is_update\n",
    "        FROM collections''')\n",
    "\n",
    "    rows = cursor.fetchall()\n",
    "    conn.close()\n",
    "\n",
    "    # Get column names from cursor description\n",
    "    column_names = [column[0] for column in cursor.description]\n",
    "\n",
    "    # Convert rows to dictionaries\n",
    "    dict_rows = [dict(zip(column_names, row)) for row in rows]\n",
    "\n",
    "    # Convert 'files' from str to list\n",
    "    for row in dict_rows:\n",
    "        row['files'] = json.loads(row['files'])\n",
    "        row['new_files'] = json.loads(row['new_files'])\n",
    "        \n",
    "    return dict_rows"
   ]
  },
  {
   "cell_type": "code",
   "execution_count": 31,
   "metadata": {},
   "outputs": [],
   "source": [
    "create_table_collections()"
   ]
  },
  {
   "cell_type": "code",
   "execution_count": 32,
   "metadata": {},
   "outputs": [],
   "source": [
    "insert_collection('Group1', 'Group1 提示詞', '[]', '[]')"
   ]
  },
  {
   "cell_type": "code",
   "execution_count": 33,
   "metadata": {},
   "outputs": [],
   "source": [
    "insert_collection('Group2', 'Group2 提示詞', '[]', '[]')"
   ]
  },
  {
   "cell_type": "code",
   "execution_count": 34,
   "metadata": {},
   "outputs": [],
   "source": [
    "insert_collection('Group3', 'Group3 提示詞', '[]', '[]')"
   ]
  },
  {
   "cell_type": "code",
   "execution_count": 36,
   "metadata": {},
   "outputs": [],
   "source": [
    "update_collection(2, prompt=\"Group2 系統提示詞\")"
   ]
  },
  {
   "cell_type": "code",
   "execution_count": 84,
   "metadata": {},
   "outputs": [
    {
     "data": {
      "text/plain": [
       "[{'id': 1,\n",
       "  'collection_name': '',\n",
       "  'prompt': 'Group1 系統提示詞',\n",
       "  'new_files': ['Nonimmigrant Visa - Confirmation Page.pdf'],\n",
       "  'files': ['疫苗証明.pdf', 'Nonimmigrant Visa - Confirmation Page.pdf'],\n",
       "  'is_update': 1},\n",
       " {'id': 2,\n",
       "  'collection_name': 'Group2',\n",
       "  'prompt': 'Group2 系統提示詞',\n",
       "  'new_files': [],\n",
       "  'files': [],\n",
       "  'is_update': 0},\n",
       " {'id': 3,\n",
       "  'collection_name': 'Group3',\n",
       "  'prompt': 'Group3 提示詞',\n",
       "  'new_files': [],\n",
       "  'files': [],\n",
       "  'is_update': 0}]"
      ]
     },
     "execution_count": 84,
     "metadata": {},
     "output_type": "execute_result"
    }
   ],
   "source": [
    "get_collections()"
   ]
  },
  {
   "cell_type": "code",
   "execution_count": 85,
   "metadata": {},
   "outputs": [],
   "source": [
    "class SqliteManager:\n",
    "    def __init__(self):\n",
    "        self.conn = sqlite3.connect('../../database.db')\n",
    "    def reset_udpate_status(self):\n",
    "        cursor = self.conn.cursor()\n",
    "        cursor.execute(\"\"\"\n",
    "            UPDATE collections \n",
    "            SET \n",
    "                new_files = '[]', \n",
    "                is_update = 0,\n",
    "                collection_name = CASE \n",
    "                    WHEN new_collection_name <> '' THEN new_collection_name \n",
    "                    ELSE collection_name \n",
    "                END,\n",
    "                new_collection_name = ''\n",
    "        \"\"\")\n",
    "        self.conn.commit()\n",
    "        self.conn.close()\n",
    "\n",
    "sql = SqliteManager()\n",
    "sql.reset_udpate_status()"
   ]
  },
  {
   "cell_type": "code",
   "execution_count": null,
   "metadata": {},
   "outputs": [],
   "source": []
  }
 ],
 "metadata": {
  "kernelspec": {
   "display_name": "laoshifu_env",
   "language": "python",
   "name": "python3"
  },
  "language_info": {
   "codemirror_mode": {
    "name": "ipython",
    "version": 3
   },
   "file_extension": ".py",
   "mimetype": "text/x-python",
   "name": "python",
   "nbconvert_exporter": "python",
   "pygments_lexer": "ipython3",
   "version": "3.9.19"
  }
 },
 "nbformat": 4,
 "nbformat_minor": 2
}
